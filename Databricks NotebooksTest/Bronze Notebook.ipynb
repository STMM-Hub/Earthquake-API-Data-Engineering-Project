{
 "cells": [
  {
   "cell_type": "markdown",
   "metadata": {
    "application/vnd.databricks.v1+cell": {
     "cellMetadata": {
      "byteLimit": 2048000,
      "rowLimit": 10000
     },
     "inputWidgets": {},
     "nuid": "a799c7a6-e7a5-4a6d-bbc8-8d2eae2a660a",
     "showTitle": false,
     "tableResultSettingsMap": {},
     "title": ""
    }
   },
   "source": [
    "## Data Storage Tiers and ADLS Paths\n",
    "\n",
    "In this notebook, we define the tiers for data storage and create a dictionary to store the Azure Data Lake Storage (ADLS) paths for each tier. We then list the contents of each ADLS path to verify access."
   ]
  },
  {
   "cell_type": "markdown",
   "metadata": {
    "application/vnd.databricks.v1+cell": {
     "cellMetadata": {
      "byteLimit": 2048000,
      "rowLimit": 10000
     },
     "inputWidgets": {},
     "nuid": "d3594bdf-3e68-4b8b-acc4-dac6d038f42d",
     "showTitle": false,
     "tableResultSettingsMap": {},
     "title": ""
    }
   },
   "source": [
    "### Mount ADLS Gen2\n",
    "\n",
    "This script mounts Azure Data Lake Storage (ADLS) Gen2. This is required each time the cluster is restarted. It should be executed only in the first notebook as they run in order."
   ]
  },
  {
   "cell_type": "code",
   "execution_count": 0,
   "metadata": {
    "application/vnd.databricks.v1+cell": {
     "cellMetadata": {
      "byteLimit": 2048000,
      "rowLimit": 10000
     },
     "inputWidgets": {},
     "nuid": "794255e9-00e6-4c60-b3e2-2bc82bdf4122",
     "showTitle": false,
     "tableResultSettingsMap": {},
     "title": ""
    }
   },
   "outputs": [
    {
     "output_type": "execute_result",
     "data": {
      "text/plain": [
       "[FileInfo(path='abfss://gold@earthquakedatadb.dfs.core.windows.net/earthquake_events_gold/', name='earthquake_events_gold/', size=0, modificationTime=1745057122000)]"
      ]
     },
     "execution_count": 1,
     "metadata": {},
     "output_type": "execute_result"
    }
   ],
   "source": [
    "# Define the tiers for data storage\n",
    "tiers = [\"bronze\", \"silver\", \"gold\"]\n",
    "\n",
    "# Create a dictionary to store the ADLS paths for each tier\n",
    "adls_paths = {\n",
    "    tier: f\"abfss://{tier}@earthquakedatadb.dfs.core.windows.net/\" \n",
    "    for tier in tiers\n",
    "}\n",
    "\n",
    "# Accessing paths for each tier\n",
    "bronze_adls = adls_paths[\"bronze\"]\n",
    "silver_adls = adls_paths[\"silver\"]\n",
    "gold_adls = adls_paths[\"gold\"] \n",
    "\n",
    "# List the contents of each ADLS path to verify access\n",
    "dbutils.fs.ls(bronze_adls)\n",
    "dbutils.fs.ls(silver_adls)\n",
    "dbutils.fs.ls(gold_adls)"
   ]
  },
  {
   "cell_type": "markdown",
   "metadata": {
    "application/vnd.databricks.v1+cell": {
     "cellMetadata": {
      "byteLimit": 2048000,
      "rowLimit": 10000
     },
     "inputWidgets": {},
     "nuid": "78011198-9250-4a38-932b-626d5807acd2",
     "showTitle": false,
     "tableResultSettingsMap": {},
     "title": ""
    }
   },
   "source": [
    "## Import Necessary Libraries\n",
    "\n",
    "In this cell, we import the necessary libraries for making HTTP requests and handling JSON data. We also import date and timedelta for date manipulations."
   ]
  },
  {
   "cell_type": "code",
   "execution_count": 0,
   "metadata": {
    "application/vnd.databricks.v1+cell": {
     "cellMetadata": {
      "byteLimit": 2048000,
      "rowLimit": 10000
     },
     "inputWidgets": {},
     "nuid": "cb19f5e7-2eac-4553-9bd2-94677552a003",
     "showTitle": false,
     "tableResultSettingsMap": {},
     "title": ""
    }
   },
   "outputs": [],
   "source": [
    "import requests\n",
    "import json\n",
    "from datetime import date, timedelta"
   ]
  },
  {
   "cell_type": "markdown",
   "metadata": {
    "application/vnd.databricks.v1+cell": {
     "cellMetadata": {
      "byteLimit": 2048000,
      "rowLimit": 10000
     },
     "inputWidgets": {},
     "nuid": "77ae5873-7e16-48a2-8515-cc90caa701e3",
     "showTitle": false,
     "tableResultSettingsMap": {},
     "title": ""
    }
   },
   "source": [
    "## Define Date Range\n",
    "\n",
    "Here, we define the start and end dates for the data extraction. This is currently set to extract data from the previous day."
   ]
  },
  {
   "cell_type": "code",
   "execution_count": 0,
   "metadata": {
    "application/vnd.databricks.v1+cell": {
     "cellMetadata": {
      "byteLimit": 2048000,
      "rowLimit": 10000
     },
     "inputWidgets": {},
     "nuid": "7cb7d719-ede2-4d98-995a-f870b295287a",
     "showTitle": false,
     "tableResultSettingsMap": {},
     "title": ""
    }
   },
   "outputs": [],
   "source": [
    "# Remove this before running Data Factory Pipeline\n",
    "start_date = date.today() - timedelta(days=1)\n",
    "end_date = date.today()"
   ]
  },
  {
   "cell_type": "code",
   "execution_count": 0,
   "metadata": {
    "application/vnd.databricks.v1+cell": {
     "cellMetadata": {
      "byteLimit": 2048000,
      "rowLimit": 10000
     },
     "inputWidgets": {},
     "nuid": "7fb97d11-665a-4b57-a72f-27d55518a297",
     "showTitle": false,
     "tableResultSettingsMap": {},
     "title": ""
    }
   },
   "outputs": [
    {
     "output_type": "execute_result",
     "data": {
      "text/plain": [
       "(datetime.date(2025, 4, 19), datetime.date(2025, 4, 20))"
      ]
     },
     "execution_count": 4,
     "metadata": {},
     "output_type": "execute_result"
    }
   ],
   "source": [
    "start_date, end_date"
   ]
  },
  {
   "cell_type": "markdown",
   "metadata": {
    "application/vnd.databricks.v1+cell": {
     "cellMetadata": {
      "byteLimit": 2048000,
      "rowLimit": 10000
     },
     "inputWidgets": {},
     "nuid": "328d5a8d-ab8e-4e21-a85e-25e27c920486",
     "showTitle": false,
     "tableResultSettingsMap": {},
     "title": ""
    }
   },
   "source": [
    "## Access Earthquake Data from USGS API\n",
    "\n",
    "In this cell, we access the earthquake data from the USGS API using the defined date range."
   ]
  },
  {
   "cell_type": "code",
   "execution_count": 0,
   "metadata": {
    "application/vnd.databricks.v1+cell": {
     "cellMetadata": {
      "byteLimit": 2048000,
      "rowLimit": 10000
     },
     "inputWidgets": {},
     "nuid": "6e6d5ef8-e3fc-4e13-9748-2743dfdab884",
     "showTitle": false,
     "tableResultSettingsMap": {},
     "title": ""
    }
   },
   "outputs": [],
   "source": [
    "# Accessing earthquake.usgs.gov API\n",
    "url = \"https://earthquake.usgs.gov/fdsnws/event/1/query?format=geojson&starttime={}&endtime={}\".format(start_date, end_date)\n",
    "\n",
    "# Option 2\n",
    "# url = f\"https://earthquake.usgs.gov/fdsnws/event/1/query?format=geojson&starttime={start_date}&endtime={end_date}\""
   ]
  },
  {
   "cell_type": "markdown",
   "metadata": {
    "application/vnd.databricks.v1+cell": {
     "cellMetadata": {
      "byteLimit": 2048000,
      "rowLimit": 10000
     },
     "inputWidgets": {},
     "nuid": "6475a77c-671a-4bf3-8f9c-b6bef953bee9",
     "showTitle": false,
     "tableResultSettingsMap": {},
     "title": ""
    }
   },
   "source": [
    "## Fetch, Load AND Save Data to Bronze Container\n",
    "\n",
    "This cell fetches the data from the API and loads it into a JSON object."
   ]
  },
  {
   "cell_type": "code",
   "execution_count": 0,
   "metadata": {
    "application/vnd.databricks.v1+cell": {
     "cellMetadata": {
      "byteLimit": 2048000,
      "rowLimit": 10000
     },
     "inputWidgets": {},
     "nuid": "da05e01d-2210-4fb4-9800-34dff969ea53",
     "showTitle": false,
     "tableResultSettingsMap": {},
     "title": ""
    }
   },
   "outputs": [
    {
     "output_type": "stream",
     "name": "stdout",
     "output_type": "stream",
     "text": [
      "Wrote 369205 bytes.\nData saved to abfss://bronze@earthquakedatadb.dfs.core.windows.net//2025-04-19_earthquake_data.json\n"
     ]
    }
   ],
   "source": [
    "try:    \n",
    "    # Make the GET requests to fetch data\n",
    "    response = requests.get(url)\n",
    "\n",
    "    # Check if the request was successful\n",
    "    response.raise_for_status() # Raise HTTP Error for bad responses\n",
    "    data = response.json().get('features', [])\n",
    "\n",
    "    if not data:\n",
    "        print(\"No earthquake data found for the specified date range.\")\n",
    "    else:\n",
    "        # Specify the ADLS Gen2 path to write the data\n",
    "        adls_path = f\"{bronze_adls}/{start_date}_earthquake_data.json\"\n",
    "\n",
    "        # Save the json data to ADLS Gen2\n",
    "        json_data = json.dumps(data, indent=4)\n",
    "        dbutils.fs.put(adls_path, json_data, overwrite=True)\n",
    "        print(f\"Data saved to {adls_path}\")\n",
    "except requests.exceptions.HTTPError as err:\n",
    "    print(f\"Error fetching data from API: {err}\")"
   ]
  },
  {
   "cell_type": "code",
   "execution_count": 0,
   "metadata": {
    "application/vnd.databricks.v1+cell": {
     "cellMetadata": {
      "byteLimit": 2048000,
      "rowLimit": 10000
     },
     "inputWidgets": {},
     "nuid": "8d788b6d-5a36-4d5a-8a1a-36fb03a2e31b",
     "showTitle": false,
     "tableResultSettingsMap": {},
     "title": ""
    }
   },
   "outputs": [
    {
     "output_type": "execute_result",
     "data": {
      "text/plain": [
       "{'type': 'Feature',\n",
       " 'properties': {'mag': 0.3,\n",
       "  'place': '33 km NW of Indian Springs, Nevada',\n",
       "  'time': 1745107130799,\n",
       "  'updated': 1745108597444,\n",
       "  'tz': None,\n",
       "  'url': 'https://earthquake.usgs.gov/earthquakes/eventpage/nn00896479',\n",
       "  'detail': 'https://earthquake.usgs.gov/fdsnws/event/1/query?eventid=nn00896479&format=geojson',\n",
       "  'felt': None,\n",
       "  'cdi': None,\n",
       "  'mmi': None,\n",
       "  'alert': None,\n",
       "  'status': 'reviewed',\n",
       "  'tsunami': 0,\n",
       "  'sig': 1,\n",
       "  'net': 'nn',\n",
       "  'code': '00896479',\n",
       "  'ids': ',nn00896479,',\n",
       "  'sources': ',nn,',\n",
       "  'types': ',origin,phase-data,',\n",
       "  'nst': 12,\n",
       "  'dmin': 0.017,\n",
       "  'rms': 0.0905,\n",
       "  'gap': 199.50000000000006,\n",
       "  'magType': 'ml',\n",
       "  'type': 'earthquake',\n",
       "  'title': 'M 0.3 - 33 km NW of Indian Springs, Nevada'},\n",
       " 'geometry': {'type': 'Point', 'coordinates': [-115.9286, 36.7856, 7.2]},\n",
       " 'id': 'nn00896479'}"
      ]
     },
     "execution_count": 7,
     "metadata": {},
     "output_type": "execute_result"
    }
   ],
   "source": [
    "data[0]"
   ]
  }
 ],
 "metadata": {
  "application/vnd.databricks.v1+notebook": {
   "computePreferences": null,
   "dashboards": [],
   "environmentMetadata": {
    "base_environment": "",
    "environment_version": "2"
   },
   "inputWidgetPreferences": null,
   "language": "python",
   "notebookMetadata": {
    "mostRecentlyExecutedCommandWithImplicitDF": {
     "commandId": 4805043119606068,
     "dataframes": [
      "_sqldf"
     ]
    },
    "pythonIndentUnit": 4
   },
   "notebookName": "Test Bronze Notebook",
   "widgets": {}
  },
  "language_info": {
   "name": "python"
  }
 },
 "nbformat": 4,
 "nbformat_minor": 0
}
